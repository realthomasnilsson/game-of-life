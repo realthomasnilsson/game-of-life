{
 "cells": [
  {
   "cell_type": "code",
   "execution_count": 3,
   "metadata": {},
   "outputs": [],
   "source": [
    "from collections import Counter\n",
    "\n",
    "def next_generation(world):\n",
    "    \"The set of live cells in the next generation.\"\n",
    "    possible_cells = counts = neighbor_counts(world)\n",
    "    return {cell for cell in possible_cells\n",
    "           if (counts[cell] == 3)\n",
    "           or (counts[cell] == 2 and cell in world)}\n",
    "\n",
    "def neighbor_counts(world):\n",
    "    \"A {cell: int} counter of the number of live neighbors for each cell that has neighbors.\"\n",
    "    return Counter(nb for cell in world\n",
    "                  for nb in neighbors(cell))\n",
    "\n",
    "def neighbors(cell):\n",
    "    \"All 8 adjacent neighbors of cell.\"\n",
    "    (x, y) = cell\n",
    "    return [(x-1, y-1), (x, y-1), (x+1, y-1),\n",
    "           (x-1, y),               (x+1, y),\n",
    "           (x-1, y+1), (x, y+1), (x+1, y+1)]"
   ]
  },
  {
   "cell_type": "code",
   "execution_count": 4,
   "metadata": {},
   "outputs": [
    {
     "data": {
      "text/plain": [
       "{(1, 2), (1, 3), (2, 3)}"
      ]
     },
     "execution_count": 4,
     "metadata": {},
     "output_type": "execute_result"
    }
   ],
   "source": [
    "world = {(3, 1), (1, 2), (1, 3), (2, 3)}\n",
    "next_generation(world)"
   ]
  },
  {
   "cell_type": "code",
   "execution_count": 5,
   "metadata": {},
   "outputs": [
    {
     "data": {
      "text/plain": [
       "{(1, 2), (1, 3), (2, 2), (2, 3)}"
      ]
     },
     "execution_count": 5,
     "metadata": {},
     "output_type": "execute_result"
    }
   ],
   "source": [
    "next_generation(next_generation(world))"
   ]
  },
  {
   "cell_type": "code",
   "execution_count": 6,
   "metadata": {},
   "outputs": [
    {
     "data": {
      "text/plain": [
       "[(1, 3), (2, 3), (3, 3), (1, 4), (3, 4), (1, 5), (2, 5), (3, 5)]"
      ]
     },
     "execution_count": 6,
     "metadata": {},
     "output_type": "execute_result"
    }
   ],
   "source": [
    "neighbors((2, 4))"
   ]
  },
  {
   "cell_type": "code",
   "execution_count": 7,
   "metadata": {},
   "outputs": [
    {
     "data": {
      "text/plain": [
       "Counter({(0, 1): 1,\n",
       "         (1, 1): 1,\n",
       "         (2, 1): 2,\n",
       "         (0, 2): 2,\n",
       "         (2, 2): 4,\n",
       "         (0, 3): 2,\n",
       "         (1, 3): 2,\n",
       "         (2, 3): 2,\n",
       "         (2, 0): 1,\n",
       "         (3, 0): 1,\n",
       "         (4, 0): 1,\n",
       "         (4, 1): 1,\n",
       "         (3, 2): 2,\n",
       "         (4, 2): 1,\n",
       "         (1, 2): 2,\n",
       "         (3, 3): 1,\n",
       "         (1, 4): 2,\n",
       "         (2, 4): 2,\n",
       "         (3, 4): 1,\n",
       "         (0, 4): 1})"
      ]
     },
     "execution_count": 7,
     "metadata": {},
     "output_type": "execute_result"
    }
   ],
   "source": [
    "neighbor_counts(world)"
   ]
  },
  {
   "cell_type": "code",
   "execution_count": 9,
   "metadata": {},
   "outputs": [],
   "source": [
    "def run(world, n):\n",
    "    \"Run the world for n generations. No display; just return the nth generation\""
   ]
  },
  {
   "cell_type": "raw",
   "metadata": {},
   "source": [
    "run(world, 100)"
   ]
  },
  {
   "cell_type": "code",
   "execution_count": 28,
   "metadata": {},
   "outputs": [],
   "source": [
    "import time\n",
    "from IPython.display import clear_output, display_html\n",
    "\n",
    "LIVE = '@'\n",
    "EMPTY = '.'\n",
    "PAD = ' '\n",
    "\n",
    "def display_run(world, n=10, Xs=range(10), Ys=range(10), pause=0.1):\n",
    "    \"Step and display the world for the given number of generations.\"\n",
    "    for g in range(n + 1):\n",
    "        clear_output()\n",
    "        display_html('Generation {}, Population {}\\n{}'\n",
    "                    .format(g, len(world), pre(picture(world, Xs, Ys))),\n",
    "                    raw=True)\n",
    "        time.sleep(pause)\n",
    "        world = next_generation(world)\n",
    "        \n",
    "def pre(text): return '<pre>' + text + '</pre>'\n",
    "\n",
    "def picture(world, Xs, Ys):\n",
    "    \"Return a picture: a grid of characters representing the cells in this window.\"\n",
    "    def row(y): return PAD.join(LIVE if (x, y) in world else EMPTY for x in Xs)\n",
    "    return '\\n'.join(row(y) for y in Ys)\n",
    "\n",
    "    \n",
    "    "
   ]
  },
  {
   "cell_type": "code",
   "execution_count": 29,
   "metadata": {},
   "outputs": [
    {
     "name": "stdout",
     "output_type": "stream",
     "text": [
      ". . . . .\n",
      ". . . @ .\n",
      ". @ . . .\n",
      ". @ @ . .\n",
      ". . . . .\n"
     ]
    }
   ],
   "source": [
    "print(picture(world, range(5), range(5)))"
   ]
  },
  {
   "cell_type": "code",
   "execution_count": 40,
   "metadata": {},
   "outputs": [
    {
     "data": {
      "text/html": [
       "Generation 10, Population 4\n",
       "<pre>. . . . .\n",
       ". . . . .\n",
       ". @ @ . .\n",
       ". @ @ . .\n",
       ". . . . .</pre>"
      ]
     },
     "metadata": {},
     "output_type": "display_data"
    }
   ],
   "source": [
    "display_run(world, 10, range(5), range(5))"
   ]
  },
  {
   "cell_type": "code",
   "execution_count": 47,
   "metadata": {},
   "outputs": [],
   "source": [
    "def shape(picture, offset=(3, 3)):\n",
    "    \"Convert a graphical picture (e.g. '@ @ .\\n. @@') into a world (set of cells).\"\n",
    "    cells = {(x, y)\n",
    "             for (y, row) in enumerate(picture.splitlines())\n",
    "             for (x, c) in enumerate(row.replace(PAD, ''))\n",
    "             if c == LIVE}\n",
    "    return move(cells, offset)\n",
    "\n",
    "def move(cells, offset):\n",
    "    \"Move/Translate/slide a set of cells by a (dx, dy) displacement/offset.\"\n",
    "    (dx, dy) = offset\n",
    "    return {(x+dx, y+dy) for (x, y) in cells}\n",
    "\n",
    "blinker     = shape(\"@@@\")\n",
    "block       = shape(\"@@\\n@@\")\n",
    "beacon      = block | move(block, (2, 2))\n",
    "toad        = shape(\".@@@\\n@@@.\")\n",
    "glider      = shape(\".@.\\n..@\\n@@@\")\n",
    "rpentomino  = shape(\".@@\\n@@.\\n.@.\", (36, 20))\n",
    "line        = shape(\".@@@@@@@@.@@@@@...@@@......@@@@@@@.@@@@@\", (10, 10))\n",
    "growth      = shape(\"@@@.@\\n@\\n...@@\\n.@@.@\\n@.@.@\", (10, 10))"
   ]
  },
  {
   "cell_type": "code",
   "execution_count": 48,
   "metadata": {},
   "outputs": [
    {
     "data": {
      "text/plain": [
       "{(3, 3), (4, 3), (4, 4), (5, 4)}"
      ]
     },
     "execution_count": 48,
     "metadata": {},
     "output_type": "execute_result"
    }
   ],
   "source": [
    "shape(\"\"\"@ @ .\n",
    "         . @ @\"\"\")"
   ]
  },
  {
   "cell_type": "code",
   "execution_count": 49,
   "metadata": {},
   "outputs": [
    {
     "data": {
      "text/plain": [
       "{(3, 3), (3, 4), (4, 3), (4, 4)}"
      ]
     },
     "execution_count": 49,
     "metadata": {},
     "output_type": "execute_result"
    }
   ],
   "source": [
    "block"
   ]
  },
  {
   "cell_type": "markdown",
   "metadata": {},
   "source": [
    "move(block, (100, 200)"
   ]
  },
  {
   "cell_type": "code",
   "execution_count": 50,
   "metadata": {},
   "outputs": [
    {
     "data": {
      "text/plain": [
       "{(103, 203), (103, 204), (104, 203), (104, 204)}"
      ]
     },
     "execution_count": 50,
     "metadata": {},
     "output_type": "execute_result"
    }
   ],
   "source": [
    "move(block, (100, 200))"
   ]
  },
  {
   "cell_type": "code",
   "execution_count": 52,
   "metadata": {},
   "outputs": [
    {
     "data": {
      "text/html": [
       "Generation 10, Population 3\n",
       "<pre>. . . . . . . . . .\n",
       ". . . . . . . . . .\n",
       ". . . . . . . . . .\n",
       ". . . @ @ @ . . . .\n",
       ". . . . . . . . . .\n",
       ". . . . . . . . . .\n",
       ". . . . . . . . . .\n",
       ". . . . . . . . . .\n",
       ". . . . . . . . . .\n",
       ". . . . . . . . . .</pre>"
      ]
     },
     "metadata": {},
     "output_type": "display_data"
    }
   ],
   "source": [
    "display_run(blinker)"
   ]
  },
  {
   "cell_type": "code",
   "execution_count": 54,
   "metadata": {},
   "outputs": [
    {
     "data": {
      "text/html": [
       "Generation 10, Population 8\n",
       "<pre>. . . . . . . . . .\n",
       ". . . . . . . . . .\n",
       ". . . . . . . . . .\n",
       ". . . @ @ . . . . .\n",
       ". . . @ @ . . . . .\n",
       ". . . . . @ @ . . .\n",
       ". . . . . @ @ . . .\n",
       ". . . . . . . . . .\n",
       ". . . . . . . . . .\n",
       ". . . . . . . . . .</pre>"
      ]
     },
     "metadata": {},
     "output_type": "display_data"
    }
   ],
   "source": [
    "display_run(beacon)"
   ]
  },
  {
   "cell_type": "code",
   "execution_count": 56,
   "metadata": {},
   "outputs": [
    {
     "data": {
      "text/html": [
       "Generation 10, Population 6\n",
       "<pre>. . . . . . . . . .\n",
       ". . . . . . . . . .\n",
       ". . . . . . . . . .\n",
       ". . . . @ @ @ . . .\n",
       ". . . @ @ @ . . . .\n",
       ". . . . . . . . . .\n",
       ". . . . . . . . . .\n",
       ". . . . . . . . . .\n",
       ". . . . . . . . . .\n",
       ". . . . . . . . . .</pre>"
      ]
     },
     "metadata": {},
     "output_type": "display_data"
    }
   ],
   "source": [
    "display_run(toad)"
   ]
  },
  {
   "cell_type": "code",
   "execution_count": 58,
   "metadata": {},
   "outputs": [
    {
     "data": {
      "text/html": [
       "Generation 15, Population 5\n",
       "<pre>. . . . . . . . . .\n",
       ". . . . . . . . . .\n",
       ". . . . . . . . . .\n",
       ". . . . . . . . . .\n",
       ". . . . . . . . . .\n",
       ". . . . . . . . . .\n",
       ". . . . . . . . . .\n",
       ". . . . . . . @ . .\n",
       ". . . . . . . . @ @\n",
       ". . . . . . . @ @ .</pre>"
      ]
     },
     "metadata": {},
     "output_type": "display_data"
    }
   ],
   "source": [
    "display_run(glider, 15)"
   ]
  },
  {
   "cell_type": "code",
   "execution_count": 60,
   "metadata": {},
   "outputs": [
    {
     "data": {
      "text/html": [
       "Generation 130, Population 178\n",
       "<pre>. . . . . . . . . . . . . . . . . . . . . . . . . . . . . . . . . . . . . . . . . . . . . . . . . . . . . . .\n",
       ". . . . . . . . . . . . . . . . . . . . . . . . . . . . . . . . . . . . . . . . . . . . . . . . . . . . . . .\n",
       ". . . . . . . . . . . . . . . . . . . . . . . . . . . . . . . . . . . . . . . . . . . . . . . . . . . . . . .\n",
       ". . . . . . . . . . . . . . . . . . . . . . . . . . . . . . . . . . . . . . . . . . . . . . . . . . . . . . .\n",
       ". . . . . . . . . . . . . . . . . . . . . . . . . . . . . . . . . . . . . . . . . . . . . . . . . . . . . . .\n",
       ". . . . . . . . . . . . . . . . . . . . . . . . . . . . . . . . @ . . . . . . . . . . . . . . . . . . . . . .\n",
       ". . . . . . . . . . . . . . . . . . . . . . . . . . . . . . . . @ @ . . . . . . . . . . . . . @ . . . . . . .\n",
       ". . . . . . . . . . . . . . . . . . . . . . . . . . . . . . . @ . @ . . . . . . . . . . . . . @ . . . . . . .\n",
       ". . . . . . . . . . . . . . . . . . . . . . . . . . . . . . . . . . . . . . . . . . . . . . . @ . . . . . . .\n",
       ". . . . . . . . . . . @ . . . . . . . . . . . . . . . . . . . . . . . . . . . . . . . . . . . . . . . . . . .\n",
       ". . . . . . . . . @ @ @ @ . . . . . . . . . . . . . . . . . . . . . . . . . . . . . . . . . @ @ . . . . . . .\n",
       ". . . . . @ . @ @ @ @ . @ @ . . . . . . . . . . . . . . . . . . . . . . @ @ . . . . . . . @ . @ @ . . . . . .\n",
       ". . . @ @ . . @ @ . . @ @ @ . . . . . . . . . . . . . . . . . . . . . . @ @ . . . . . . . @ . @ . . . @ @ . .\n",
       ". . . . . @ @ @ . . . @ @ . . . . . . . . . . . . . . . . . . . . . . . . . . . . . . . . . @ . . . . . . . .\n",
       ". . . . . . . . . . . @ . . . . . . . . . . . . . . . . . . . . . . . . . . . . . . . . . . . . . . . . . . .\n",
       ". . . . . . . . @ . @ . . . . . . . . . . . . . . . . . . . . . . @ @ . . . . . . . . . . . . . . . . . . . .\n",
       ". . . . . . . . @ @ . . . . . . . . . . . . . . . . . @ . @ . . . @ @ . . . . . . . . . . . . . . . . . . . .\n",
       ". . . . @ @ @ . . @ @ . . . . . . . . . . . . . . . . @ . @ . . . . . . . . . . . . . . . . @ @ . . . . . . .\n",
       ". . . . @ @ . . . @ @ . . . . . . . . . . . . . . . . @ . . . . . . . . . . . . . . . . . @ @ @ . . @ @ . . .\n",
       ". . . . @ . . . . . . . . . . . . . . . . . . . . . . . @ . . . . . . . . @ . . . . . . . @ . . @ . @ @ @ . .\n",
       ". . . . @ @ . @ . . . . . . . . . . . . . . . . . . . . . . . . . . . @ @ . @ . . . . . . . @ . . . @ . @ . .\n",
       ". . . . . @ @ @ . . . . . . . . . . . . . . . . . . . . . . . . @ . . . . . . @ . . . . . . . . . . . @ . . .\n",
       ". . . . @ . . @ . . . . . . . . . . . . . . . . . . . . . . . @ . . . . . . @ . . . @ @ . . . . . . . . . . .\n",
       ". . . . . @ . . . . . . . . . . . . . . . . . . . . . . . . @ . . . . . @ @ . . . @ . . @ . . . . . . . . . .\n",
       "@ @ . @ @ @ . . . . . . . . . . . . . . . . . . . . . . . . @ . . @ . . . . . . . @ . . @ . . . . . . . . . .\n",
       ". . @ @ . . . . . . . . . . . . . . . . . . . . . . . . . . @ @ . @ @ @ . . . . . . @ @ . . . . . . . . . . .\n",
       ". . . @ @ . . . . . . . . . . . . . . . . . . . . . . . . . . . @ . . . @ . . . . . . . . . . . . . . . . . .\n",
       "@ @ . @ @ . . . . . . . . . . @ @ . . . . . . . . . . . . . . . @ . . . . . . . . . . . . . . . . . . @ . . .\n",
       "@ . . @ . . . . . . . . . . . @ @ . . . . . . . . . . . . . . . . . . @ . . . . . . . . . . . . . . . . @ @ .\n",
       "@ @ @ . . . . . . . . . . . . . . . . . . . . . . . . . . . . . . . . . . . . . . . . . . . . . . . . @ @ . .\n",
       ". . . . . . . . . . . . . . . . . . . . . . . . . . . . . . . . . . . . . . . . . . . . . . . . . . . . . . .\n",
       ". . . . . . . . . . . . . . . . . . . . . . . . . . . . . . . . . . . . . . . . . . . . . . . . . . . . . . .\n",
       ". . . @ . . . . . . . . . . . . . . . . . . . . . . . . . . . . . . . . . . . . . . . . . . . . . . . . . . .\n",
       ". . @ @ . . . . . . . . . . . . . . . . . . . . . . . . . . . . . . . . . . . . . . . . . . . . . . . . . . .\n",
       ". . @ . @ . @ @ . . . . . . . . . . . . . . . . . . . . . . . . . . . . . . . . . . . . . . . . . . . . . . .\n",
       ". . @ . @ . @ @ . . . . . . . . . . . . . . . . . . . . . . . . . . . . . . . . . . . . . . . . . . . . . . .\n",
       ". . @ . @ @ . . . . . . . . . . . . . . . . . . . . . . . . . . . . . . . . . . . . . . . . . . . . . . . . .\n",
       ". . @ . @ . . . . . . . . . . . . . . . . . . . . . . . . . . . . . . . . . . . . . . . . . . . . . . . . . .\n",
       ". . . . . . . . . . . . . . . . . . . . . . . . . . . . . . . . . . . . . . . . . . . . . . . . . . . . . . .\n",
       ". . . . . . . . . . . . . . . . . . . . . . . . . . . . . . . . . . . . . . . . . . . . . . . . . . . . . . .</pre>"
      ]
     },
     "metadata": {},
     "output_type": "display_data"
    }
   ],
   "source": [
    "display_run(rpentomino, 130, range(55), range(40))"
   ]
  }
 ],
 "metadata": {
  "kernelspec": {
   "display_name": "Python 3",
   "language": "python",
   "name": "python3"
  },
  "language_info": {
   "codemirror_mode": {
    "name": "ipython",
    "version": 3
   },
   "file_extension": ".py",
   "mimetype": "text/x-python",
   "name": "python",
   "nbconvert_exporter": "python",
   "pygments_lexer": "ipython3",
   "version": "3.7.1"
  }
 },
 "nbformat": 4,
 "nbformat_minor": 2
}
